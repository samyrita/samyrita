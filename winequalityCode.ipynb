{
  "nbformat": 4,
  "nbformat_minor": 0,
  "metadata": {
    "colab": {
      "provenance": [],
      "mount_file_id": "1ceBhlGM3pt2oDOXzt1OGeUiLXWr7cwCE",
      "authorship_tag": "ABX9TyNjRcaSWTgRdnK5ylKQQWYx",
      "include_colab_link": true
    },
    "kernelspec": {
      "name": "python3",
      "display_name": "Python 3"
    },
    "language_info": {
      "name": "python"
    }
  },
  "cells": [
    {
      "cell_type": "markdown",
      "metadata": {
        "id": "view-in-github",
        "colab_type": "text"
      },
      "source": [
        "<a href=\"https://colab.research.google.com/github/samyrita/samyrita/blob/main/winequalityCode.ipynb\" target=\"_parent\"><img src=\"https://colab.research.google.com/assets/colab-badge.svg\" alt=\"Open In Colab\"/></a>"
      ]
    },
    {
      "cell_type": "code",
      "execution_count": 2,
      "metadata": {
        "colab": {
          "base_uri": "https://localhost:8080/"
        },
        "id": "xPGe3JiC3KnH",
        "outputId": "52f718ab-e844-4484-d7f6-30c434037be5"
      },
      "outputs": [
        {
          "output_type": "stream",
          "name": "stdout",
          "text": [
            "Requirement already satisfied: pandas in /usr/local/lib/python3.10/dist-packages (2.0.3)\n",
            "Requirement already satisfied: scikit-learn in /usr/local/lib/python3.10/dist-packages (1.2.2)\n",
            "Requirement already satisfied: python-dateutil>=2.8.2 in /usr/local/lib/python3.10/dist-packages (from pandas) (2.8.2)\n",
            "Requirement already satisfied: pytz>=2020.1 in /usr/local/lib/python3.10/dist-packages (from pandas) (2023.4)\n",
            "Requirement already satisfied: tzdata>=2022.1 in /usr/local/lib/python3.10/dist-packages (from pandas) (2024.1)\n",
            "Requirement already satisfied: numpy>=1.21.0 in /usr/local/lib/python3.10/dist-packages (from pandas) (1.25.2)\n",
            "Requirement already satisfied: scipy>=1.3.2 in /usr/local/lib/python3.10/dist-packages (from scikit-learn) (1.11.4)\n",
            "Requirement already satisfied: joblib>=1.1.1 in /usr/local/lib/python3.10/dist-packages (from scikit-learn) (1.4.2)\n",
            "Requirement already satisfied: threadpoolctl>=2.0.0 in /usr/local/lib/python3.10/dist-packages (from scikit-learn) (3.5.0)\n",
            "Requirement already satisfied: six>=1.5 in /usr/local/lib/python3.10/dist-packages (from python-dateutil>=2.8.2->pandas) (1.16.0)\n",
            "Variance Ratio for PC1: 0.2760054053407234\n",
            "Variance Ratio for PC2: 0.22646620006258042\n",
            "Variance Ratio for PC3: 0.14206751361686287\n",
            "Variance Ratio for PC4: 0.08792334548549588\n",
            "Variance Ratio for PC5: 0.06583611572767373\n"
          ]
        }
      ],
      "source": [
        "!pip install pandas scikit-learn\n",
        "import pandas as pd # Import the pandas library and give it the alias 'pd'\n",
        "from sklearn.model_selection import train_test_split\n",
        "from sklearn.preprocessing import StandardScaler\n",
        "from sklearn.decomposition import PCA\n",
        "\n",
        "\n",
        "# Load the data\n",
        "data = pd.read_csv(\"winequality.csv")\n",
        "\n",
        "# Separate features and target variable\n",
        "X = data.drop(\"quality\", axis=1)\n",
        "y = data[\"quality\"]\n",
        "\n",
        "# Split into training and testing sets\n",
        "X_train, X_test, y_train, y_test = train_test_split(X, y, test_size=0.2, random_state=42)\n",
        "\n",
        "\n",
        "\n",
        "\n",
        "# Standardize features (recommended for PCA)\n",
        "scaler = StandardScaler()\n",
        "X_train_scaled = scaler.fit_transform(X_train)\n",
        "\n",
        "# Apply PCA\n",
        "pca = PCA(n_components=5)  # Keep the first 5 components\n",
        "X_train_pca = pca.fit_transform(X_train_scaled)\n",
        "\n",
        "# Get variance ratios for PC1 to PC5\n",
        "variance_ratios = pca.explained_variance_ratio_\n",
        "\n",
        "for i in range(5):\n",
        "    print(f\"Variance Ratio for PC{i+1}:\", variance_ratios[i])\n",
        "\n",
        "\n",
        "\n"
      ]
    },
    {
      "cell_type": "code",
      "source": [
        "\n",
        "import pandas as pd\n",
        "from sklearn.model_selection import train_test_split\n",
        "from sklearn.preprocessing import StandardScaler\n",
        "from sklearn.decomposition import PCA\n",
        "from sklearn.ensemble import RandomForestRegressor\n",
        "from sklearn.metrics import mean_squared_error\n",
        "import numpy as np\n",
        "import pandas as pd\n",
        "from sklearn.model_selection import train_test_split\n",
        "from sklearn.preprocessing import StandardScaler\n",
        "from sklearn.decomposition import PCA\n",
        "\n",
        "\n",
        "# Standardize features (recommended for PCA)\n",
        "scaler = StandardScaler()\n",
        "X_train_scaled = scaler.fit_transform(X_train)\n",
        "X_test_scaled = scaler.transform(X_test)\n",
        "\n",
        "# Apply PCA (optional, try with and without to see if it helps)\n",
        "pca = PCA(n_components=5)  # Adjust the number of components\n",
        "X_train_pca = pca.fit_transform(X_train_scaled)\n",
        "X_test_pca = pca.transform(X_test_scaled)\n",
        "\n",
        "# Train a Random Forest Regression model\n",
        "model = RandomForestRegressor(random_state=42)\n",
        "model.fit(X_train_pca, y_train)  # Use X_train_pca if you applied PCA\n",
        "\n",
        "# Make predictions\n",
        "y_pred = model.predict(X_test_pca)  # Use X_test_pca if you applied PCA\n",
        "\n",
        "\n",
        "# Train a model (e.g., Random Forest) using the first 3 PCs\n",
        "model = RandomForestRegressor(random_state=42)\n",
        "model.fit(X_train_pca[:, :3], y_train)  # Select first 3 columns of X_train_pca\n",
        "\n",
        "   # Make predictions on the test set\n",
        "y_pred = model.predict(X_test_pca[:, :3])  # Select first 3 columns of X_test_pca\n",
        "\n",
        "   # Evaluate performance\n",
        "mse = mean_squared_error(y_test, y_pred)\n",
        "print(\"Mean Squared Error (using PC1-PC3):\", mse)\n",
        "\n",
        "# Access feature importances\n",
        "feature_importances = model.feature_importances_\n",
        "\n",
        "print(\"Feature Importances:\", feature_importances)\n",
        "\n"
      ],
      "metadata": {
        "colab": {
          "base_uri": "https://localhost:8080/"
        },
        "id": "IX7FT1hJHBWH",
        "outputId": "45587a59-ebcd-42be-ec51-f26e302031f0"
      },
      "execution_count": 3,
      "outputs": [
        {
          "output_type": "stream",
          "name": "stdout",
          "text": [
            "Mean Squared Error (using PC1-PC3): 0.4346378461538462\n",
            "Feature Importances: [0.29962556 0.39678497 0.30358947]\n"
          ]
        }
      ]
    },
    {
      "cell_type": "code",
      "source": [
        "\n",
        "# Evaluate performance\n",
        "mse = mean_squared_error(y_test, y_pred)\n",
        "print(\"Mean Squared Error:\", mse)\n",
        "\n",
        "# Analyze feature importance (for original features)\n",
        "feature_importances_original = model.feature_importances_\n",
        "print(\"Feature Importances (Original):\", feature_importances_original)\n",
        "\n",
        "# If you used PCA, analyze feature importance for principal components\n",
        "if 'pca' in locals():\n",
        "    # Calculate feature importances for principal components\n",
        "    feature_importances_pca = model.feature_importances_\n",
        "    print(\"Feature Importances (PCA):\", feature_importances_pca)\n",
        "\n",
        "# ... (Your other code) ...\n",
        "\n",
        "# Instead of printing, save to file:\n",
        "np.savetxt(\"pca_components.txt\", pca.components_)\n",
        "print(\"PCA components saved to pca_components.txt\")"
      ],
      "metadata": {
        "id": "MSgO9GdJIh9e",
        "colab": {
          "base_uri": "https://localhost:8080/"
        },
        "outputId": "62b68b1f-69d4-4f66-8d6f-ca2b2a0535f4"
      },
      "execution_count": 4,
      "outputs": [
        {
          "output_type": "stream",
          "name": "stdout",
          "text": [
            "Mean Squared Error: 0.4346378461538462\n",
            "Feature Importances (Original): [0.29962556 0.39678497 0.30358947]\n",
            "Feature Importances (PCA): [0.29962556 0.39678497 0.30358947]\n",
            "PCA components saved to pca_components.txt\n"
          ]
        }
      ]
    },
    {
      "cell_type": "code",
      "source": [
        "import pandas as pd\n",
        "from sklearn.model_selection import train_test_split\n",
        "from sklearn.preprocessing import StandardScaler\n",
        "from sklearn.decomposition import PCA\n",
        "from sklearn.linear_model import LinearRegression\n",
        "from sklearn.metrics import mean_squared_error, r2_score\n",
        "\n",
        "# 1. Load the Data\n",
        "data = pd.read_csv(\"/content/winequality.csv\")  # Replace with your actual file path\n",
        "\n",
        "# 2. Split into Features and Target\n",
        "X = data.drop(\"quality\", axis=1)\n",
        "y = data[\"quality\"]\n",
        "\n",
        "# 3. Split into Training and Testing Sets\n",
        "X_train, X_test, y_train, y_test = train_test_split(X, y, test_size=0.2, random_state=42)\n",
        "\n",
        "# 4. Standardize Features (Recommended for PCA)\n",
        "scaler = StandardScaler()\n",
        "X_train_scaled = scaler.fit_transform(X_train)\n",
        "X_test_scaled = scaler.transform(X_test)\n",
        "\n",
        "# 5. Apply PCA (Keep Enough Components to Capture Most Variance)\n",
        "pca = PCA(n_components=5)  # Adjust as needed\n",
        "X_train_pca = pca.fit_transform(X_train_scaled)\n",
        "X_test_pca = pca.transform(X_test_scaled)\n",
        "\n",
        "# Train a Linear Regression model using PC1, PC2, PC3, PC4, and PC5\n",
        "model_lr = LinearRegression()\n",
        "model_lr.fit(X_train_pca, y_train)  # Use all 5 principal components\n",
        "\n",
        "# Get the coefficients\n",
        "coefficients = model_lr.coef_\n",
        "print(\"Coefficients for PC1, PC2, PC3, PC4, PC5:\", coefficients)\n",
        "\n",
        "# Make predictions on the test set\n",
        "y_pred_lr = model_lr.predict(X_test_pca)  # Use all 5 PCs for testing\n",
        "\n",
        "# Evaluate performance\n",
        "mse_lr = mean_squared_error(y_test, y_pred_lr)\n",
        "r2_lr = r2_score(y_test, y_pred_lr)\n",
        "print(\"Test MSE (Linear Regression with PC1-PC5):\", mse_lr)\n",
        "print(\"Test R-squared (Linear Regression with PC1-PC5):\", r2_lr)"
      ],
      "metadata": {
        "colab": {
          "base_uri": "https://localhost:8080/"
        },
        "id": "Px3puQDKRhL0",
        "outputId": "bfecdf0d-d442-4a5e-c01e-e66458840bb1"
      },
      "execution_count": 5,
      "outputs": [
        {
          "output_type": "stream",
          "name": "stdout",
          "text": [
            "Coefficients for PC1, PC2, PC3, PC4, PC5: [-0.03353872 -0.17269541  0.15499215  0.14665222  0.18009135]\n",
            "Test MSE (Linear Regression with PC1-PC5): 0.5855313024924883\n",
            "Test R-squared (Linear Regression with PC1-PC5): 0.207184506585534\n"
          ]
        }
      ]
    },
    {
      "cell_type": "code",
      "source": [
        "!pip install pyspark\n",
        "\n",
        "from pyspark.sql import SparkSession\n",
        "from pyspark.ml.feature import VectorAssembler, StandardScaler, PCA\n",
        "from pyspark.ml.regression import RandomForestRegressor\n",
        "from pyspark.ml.evaluation import RegressionEvaluator\n",
        "from pyspark.ml import Pipeline\n",
        "\n",
        "# Create a Spark session\n",
        "spark = SparkSession.builder.appName(\"WineQualityPrediction\").getOrCreate()\n",
        "\n",
        "# Load the data\n",
        "data = spark.read.csv(\"/content/winequality.csv\", header=True, inferSchema=True)  # Replace with your actual file path\n",
        "\n",
        "# Assemble features into a vector column\n",
        "feature_cols = data.columns[:-1]  # All columns except \"quality\"\n",
        "assembler = VectorAssembler(inputCols=feature_cols, outputCol=\"features\")\n",
        "data = assembler.transform(data)\n",
        "\n",
        "# Split into training and testing sets\n",
        "train_data, test_data = data.randomSplit([0.8, 0.2], seed=42)\n",
        "\n",
        "# Standardize features\n",
        "scaler = StandardScaler(inputCol=\"features\", outputCol=\"scaledFeatures\", withStd=True, withMean=True)\n",
        "scaler_model = scaler.fit(train_data)\n",
        "train_data = scaler_model.transform(train_data)\n",
        "test_data = scaler_model.transform(test_data)\n",
        "\n",
        "# Apply PCA\n",
        "pca = PCA(k=5, inputCol=\"scaledFeatures\", outputCol=\"pcaFeatures\")\n",
        "pca_model = pca.fit(train_data)\n",
        "train_data = pca_model.transform(train_data)\n",
        "test_data = pca_model.transform(test_data)\n",
        "\n",
        "# Train a Random Forest Regression model\n",
        "rf = RandomForestRegressor(featuresCol=\"pcaFeatures\", labelCol=\"quality\")\n",
        "model = rf.fit(train_data)\n",
        "\n",
        "# Make predictions on the test set\n",
        "predictions = model.transform(test_data)\n",
        "\n",
        "# Evaluate the model\n",
        "evaluator = RegressionEvaluator(labelCol=\"quality\", predictionCol=\"prediction\", metricName=\"rmse\")\n",
        "rmse = evaluator.evaluate(predictions)\n",
        "print(\"Root Mean Squared Error (RMSE):\", rmse)\n",
        "\n"
      ],
      "metadata": {
        "colab": {
          "base_uri": "https://localhost:8080/"
        },
        "id": "7FaXODMyWBJ2",
        "outputId": "40f746eb-1027-4eb4-bfa4-46866cd95e05"
      },
      "execution_count": 6,
      "outputs": [
        {
          "output_type": "stream",
          "name": "stdout",
          "text": [
            "Requirement already satisfied: pyspark in /usr/local/lib/python3.10/dist-packages (3.5.1)\n",
            "Requirement already satisfied: py4j==0.10.9.7 in /usr/local/lib/python3.10/dist-packages (from pyspark) (0.10.9.7)\n",
            "Root Mean Squared Error (RMSE): 0.7622072611909715\n"
          ]
        }
      ]
    },
    {
      "source": [
        "# --- Install Libraries (if needed) ---\n",
        "!pip install streamlit\n",
        "!pip install pyngrok\n",
        "\n",
        "# --- Streamlit App ---\n",
        "import streamlit as st\n",
        "import numpy as np\n",
        "from pyspark.sql import SparkSession\n",
        "from pyspark.ml.feature import VectorAssembler, StandardScalerModel, PCAModel\n",
        "from pyspark.ml.regression import RandomForestRegressionModel\n",
        "from pyspark.sql import Row\n",
        "from pyspark.ml.linalg import Vectors\n",
        "\n",
        "# Create a Spark session (if not already running)\n",
        "spark = SparkSession.builder.appName(\"WineQualityPrediction\").getOrCreate()\n",
        "\n",
        "# --- Load Your Spark Models (Replace with actual paths) ---\n",
        "try:\n",
        "    scaler_model = StandardScalerModel.load(\"/path/to/your/scaler_model\")\n",
        "    pca_model = PCAModel.load(\"/path/to/your/pca_model\")\n",
        "    model = RandomForestRegressionModel.load(\"/path/to/your/rf_model\")\n",
        "except Exception as e:\n",
        "    st.error(f\"Error loading models: {e}\")\n",
        "    st.stop()  # Stop the app if models can't be loaded\n",
        "\n",
        "st.title(\"Wine Quality Prediction\")\n",
        "\n",
        "# Input fields for wine characteristics\n",
        "fixed_acidity = st.number_input(\"Fixed Acidity\", value=7.0)\n",
        "volatile_acidity = st.number_input(\"Volatile Acidity\", value=0.5)\n",
        "citric_acid = st.number_input(\"Citric Acid\", value=0.3)\n",
        "residual_sugar = st.number_input(\"Residual Sugar\", value=2.0)\n",
        "chlorides = st.number_input(\"Chlorides\", value=0.07)\n",
        "free_sulfur_dioxide = st.number_input(\"Free Sulfur Dioxide\", value=15.0)\n",
        "total_sulfur_dioxide = st.number_input(\"Total Sulfur Dioxide\", value=50.0)\n",
        "density = st.number_input(\"Density\", value=0.995)\n",
        "pH = st.number_input(\"pH\", value=3.3)\n",
        "sulphates = st.number_input(\"Sulphates\", value=0.6)\n",
        "alcohol = st.number_input(\"Alcohol\", value=10.0)\n",
        "\n",
        "# Create a feature vector from user input\n",
        "input_features = np.array([fixed_acidity, volatile_acidity, citric_acid,\n",
        "                           residual_sugar, chlorides, free_sulfur_dioxide,\n",
        "                           total_sulfur_dioxide, density, pH, sulphates,\n",
        "                           alcohol]).reshape(1, -1)\n",
        "\n",
        "# --- Prediction Logic ---\n",
        "feature_cols = [\"fixed_acidity\", \"volatile_acidity\", \"citric_acid\", \"residual_sugar\",\n",
        "                \"chlorides\", \"free_sulfur_dioxide\", \"total_sulfur_dioxide\",\n",
        "                \"density\", \"pH\", \"sulphates\", \"alcohol\"]\n",
        "input_list = input_features.tolist()\n",
        "input_df = spark.createDataFrame(input_list, schema=feature_cols)\n",
        "\n",
        "assembler = VectorAssembler(inputCols=feature_cols, outputCol=\"features\")\n",
        "input_df = assembler.transform(input_df)\n",
        "\n",
        "input_df = scaler_model.transform(input_df)\n",
        "input_df = pca_model.transform(input_df)\n",
        "\n",
        "prediction = model.transform(input_df).select(\"prediction\").collect()[0][0]\n",
        "\n",
        "# --- Display Prediction ---\n",
        "st.subheader(\"Predicted Wine Quality:\")\n",
        "st.write(prediction)\n",
        "\n",
        "# --- Expose with ngrok ---\n",
        "\n",
        "!ngrok config add-authtoken 2iCIKFvA7hgtA1IisN3rDkuRYPU_4PnB3jiNWhKAK7UFZRRaB\n",
        "from pyngrok import ngrok\n",
        "\n",
        "# Use the set_auth_token method\n",
        "ngrok.set_auth_token(\"2iCIKFvA7hgtA1IisN3rDkuRYPU_4PnB3jiNWhKAK7UFZRRaB\")"
      ],
      "cell_type": "code",
      "metadata": {
        "colab": {
          "base_uri": "https://localhost:8080/"
        },
        "id": "aZ3WzLUPfqjt",
        "outputId": "d89c8f0c-bb59-4bfa-a643-fb7bd8ddec4e"
      },
      "execution_count": 10,
      "outputs": [
        {
          "output_type": "stream",
          "name": "stdout",
          "text": [
            "Requirement already satisfied: streamlit in /usr/local/lib/python3.10/dist-packages (1.36.0)\n",
            "Requirement already satisfied: altair<6,>=4.0 in /usr/local/lib/python3.10/dist-packages (from streamlit) (4.2.2)\n",
            "Requirement already satisfied: blinker<2,>=1.0.0 in /usr/lib/python3/dist-packages (from streamlit) (1.4)\n",
            "Requirement already satisfied: cachetools<6,>=4.0 in /usr/local/lib/python3.10/dist-packages (from streamlit) (5.3.3)\n",
            "Requirement already satisfied: click<9,>=7.0 in /usr/local/lib/python3.10/dist-packages (from streamlit) (8.1.7)\n",
            "Requirement already satisfied: numpy<3,>=1.20 in /usr/local/lib/python3.10/dist-packages (from streamlit) (1.25.2)\n",
            "Requirement already satisfied: packaging<25,>=20 in /usr/local/lib/python3.10/dist-packages (from streamlit) (24.1)\n",
            "Requirement already satisfied: pandas<3,>=1.3.0 in /usr/local/lib/python3.10/dist-packages (from streamlit) (2.0.3)\n",
            "Requirement already satisfied: pillow<11,>=7.1.0 in /usr/local/lib/python3.10/dist-packages (from streamlit) (9.4.0)\n",
            "Requirement already satisfied: protobuf<6,>=3.20 in /usr/local/lib/python3.10/dist-packages (from streamlit) (3.20.3)\n",
            "Requirement already satisfied: pyarrow>=7.0 in /usr/local/lib/python3.10/dist-packages (from streamlit) (14.0.2)\n",
            "Requirement already satisfied: requests<3,>=2.27 in /usr/local/lib/python3.10/dist-packages (from streamlit) (2.31.0)\n",
            "Requirement already satisfied: rich<14,>=10.14.0 in /usr/local/lib/python3.10/dist-packages (from streamlit) (13.7.1)\n",
            "Requirement already satisfied: tenacity<9,>=8.1.0 in /usr/local/lib/python3.10/dist-packages (from streamlit) (8.4.1)\n",
            "Requirement already satisfied: toml<2,>=0.10.1 in /usr/local/lib/python3.10/dist-packages (from streamlit) (0.10.2)\n",
            "Requirement already satisfied: typing-extensions<5,>=4.3.0 in /usr/local/lib/python3.10/dist-packages (from streamlit) (4.12.2)\n",
            "Requirement already satisfied: gitpython!=3.1.19,<4,>=3.0.7 in /usr/local/lib/python3.10/dist-packages (from streamlit) (3.1.43)\n",
            "Requirement already satisfied: pydeck<1,>=0.8.0b4 in /usr/local/lib/python3.10/dist-packages (from streamlit) (0.9.1)\n",
            "Requirement already satisfied: tornado<7,>=6.0.3 in /usr/local/lib/python3.10/dist-packages (from streamlit) (6.3.3)\n",
            "Requirement already satisfied: watchdog<5,>=2.1.5 in /usr/local/lib/python3.10/dist-packages (from streamlit) (4.0.1)\n",
            "Requirement already satisfied: entrypoints in /usr/local/lib/python3.10/dist-packages (from altair<6,>=4.0->streamlit) (0.4)\n",
            "Requirement already satisfied: jinja2 in /usr/local/lib/python3.10/dist-packages (from altair<6,>=4.0->streamlit) (3.1.4)\n",
            "Requirement already satisfied: jsonschema>=3.0 in /usr/local/lib/python3.10/dist-packages (from altair<6,>=4.0->streamlit) (4.19.2)\n",
            "Requirement already satisfied: toolz in /usr/local/lib/python3.10/dist-packages (from altair<6,>=4.0->streamlit) (0.12.1)\n",
            "Requirement already satisfied: gitdb<5,>=4.0.1 in /usr/local/lib/python3.10/dist-packages (from gitpython!=3.1.19,<4,>=3.0.7->streamlit) (4.0.11)\n",
            "Requirement already satisfied: python-dateutil>=2.8.2 in /usr/local/lib/python3.10/dist-packages (from pandas<3,>=1.3.0->streamlit) (2.8.2)\n",
            "Requirement already satisfied: pytz>=2020.1 in /usr/local/lib/python3.10/dist-packages (from pandas<3,>=1.3.0->streamlit) (2023.4)\n",
            "Requirement already satisfied: tzdata>=2022.1 in /usr/local/lib/python3.10/dist-packages (from pandas<3,>=1.3.0->streamlit) (2024.1)\n",
            "Requirement already satisfied: charset-normalizer<4,>=2 in /usr/local/lib/python3.10/dist-packages (from requests<3,>=2.27->streamlit) (3.3.2)\n",
            "Requirement already satisfied: idna<4,>=2.5 in /usr/local/lib/python3.10/dist-packages (from requests<3,>=2.27->streamlit) (3.7)\n",
            "Requirement already satisfied: urllib3<3,>=1.21.1 in /usr/local/lib/python3.10/dist-packages (from requests<3,>=2.27->streamlit) (2.0.7)\n",
            "Requirement already satisfied: certifi>=2017.4.17 in /usr/local/lib/python3.10/dist-packages (from requests<3,>=2.27->streamlit) (2024.6.2)\n",
            "Requirement already satisfied: markdown-it-py>=2.2.0 in /usr/local/lib/python3.10/dist-packages (from rich<14,>=10.14.0->streamlit) (3.0.0)\n",
            "Requirement already satisfied: pygments<3.0.0,>=2.13.0 in /usr/local/lib/python3.10/dist-packages (from rich<14,>=10.14.0->streamlit) (2.16.1)\n",
            "Requirement already satisfied: smmap<6,>=3.0.1 in /usr/local/lib/python3.10/dist-packages (from gitdb<5,>=4.0.1->gitpython!=3.1.19,<4,>=3.0.7->streamlit) (5.0.1)\n",
            "Requirement already satisfied: MarkupSafe>=2.0 in /usr/local/lib/python3.10/dist-packages (from jinja2->altair<6,>=4.0->streamlit) (2.1.5)\n",
            "Requirement already satisfied: attrs>=22.2.0 in /usr/local/lib/python3.10/dist-packages (from jsonschema>=3.0->altair<6,>=4.0->streamlit) (23.2.0)\n",
            "Requirement already satisfied: jsonschema-specifications>=2023.03.6 in /usr/local/lib/python3.10/dist-packages (from jsonschema>=3.0->altair<6,>=4.0->streamlit) (2023.12.1)\n",
            "Requirement already satisfied: referencing>=0.28.4 in /usr/local/lib/python3.10/dist-packages (from jsonschema>=3.0->altair<6,>=4.0->streamlit) (0.35.1)\n",
            "Requirement already satisfied: rpds-py>=0.7.1 in /usr/local/lib/python3.10/dist-packages (from jsonschema>=3.0->altair<6,>=4.0->streamlit) (0.18.1)\n",
            "Requirement already satisfied: mdurl~=0.1 in /usr/local/lib/python3.10/dist-packages (from markdown-it-py>=2.2.0->rich<14,>=10.14.0->streamlit) (0.1.2)\n",
            "Requirement already satisfied: six>=1.5 in /usr/local/lib/python3.10/dist-packages (from python-dateutil>=2.8.2->pandas<3,>=1.3.0->streamlit) (1.16.0)\n",
            "Requirement already satisfied: pyngrok in /usr/local/lib/python3.10/dist-packages (7.1.6)\n",
            "Requirement already satisfied: PyYAML>=5.1 in /usr/local/lib/python3.10/dist-packages (from pyngrok) (6.0.1)\n",
            "Authtoken saved to configuration file: /root/.config/ngrok/ngrok.yml\n"
          ]
        }
      ]
    },
    {
      "source": [
        "# --- Expose with ngrok ---\n",
        "public_url = ngrok.connect(8501)  # Expose port 8501 (default for Streamlit)\n",
        "st.markdown(f\"**Public URL: {public_url}**\")  # Display the URL in the app"
      ],
      "cell_type": "code",
      "metadata": {
        "colab": {
          "base_uri": "https://localhost:8080/"
        },
        "id": "PldESE7tf-qJ",
        "outputId": "6da5eedb-fa43-4e22-b941-6d944a840628"
      },
      "execution_count": 11,
      "outputs": [
        {
          "output_type": "stream",
          "name": "stderr",
          "text": [
            "WARNING:pyngrok.process.ngrok:t=2024-06-21T16:49:29+0000 lvl=warn msg=\"can't bind default web address, trying alternatives\" obj=web addr=127.0.0.1:4040\n"
          ]
        },
        {
          "output_type": "execute_result",
          "data": {
            "text/plain": [
              "DeltaGenerator()"
            ]
          },
          "metadata": {},
          "execution_count": 11
        }
      ]
    },
    {
      "source": [
        "import streamlit as st\n",
        "import numpy as np\n",
        "from pyspark.sql import SparkSession\n",
        "from pyspark.ml.feature import VectorAssembler, StandardScalerModel, PCAModel\n",
        "from pyspark.ml.regression import RandomForestRegressionModel\n",
        "from pyspark.sql import Row\n",
        "from pyspark.ml.linalg import Vectors\n",
        "\n",
        "# Create a Spark session (if not already running)\n",
        "spark = SparkSession.builder.appName(\"WineQualityPrediction\").getOrCreate()\n",
        "\n",
        "# --- Load Your Spark Models (Replace with actual paths) ---\n",
        "try:\n",
        "    scaler_model = StandardScalerModel.load(\"/path/to/your/scaler_model\")\n",
        "    pca_model = PCAModel.load(\"/path/to/your/pca_model\")\n",
        "    model = RandomForestRegressionModel.load(\"/path/to/your/rf_model\")\n",
        "except Exception as e:\n",
        "    st.error(f\"Error loading models: {e}\")\n",
        "    st.stop()  # Stop the app if models can't be loaded\n",
        "\n",
        "st.title(\"Wine Quality Prediction\")\n",
        "\n",
        "# Input fields for wine characteristics\n",
        "fixed_acidity = st.number_input(\"Fixed Acidity\", value=7.0)\n",
        "volatile_acidity = st.number_input(\"Volatile Acidity\", value=0.5)\n",
        "citric_acid = st.number_input(\"Citric Acid\", value=0.3)\n",
        "residual_sugar = st.number_input(\"Residual Sugar\", value=2.0)\n",
        "chlorides = st.number_input(\"Chlorides\", value=0.07)\n",
        "free_sulfur_dioxide = st.number_input(\"Free Sulfur Dioxide\", value=15.0)\n",
        "total_sulfur_dioxide = st.number_input(\"Total Sulfur Dioxide\", value=50.0)\n",
        "density = st.number_input(\"Density\", value=0.995)\n",
        "pH = st.number_input(\"pH\", value=3.3)\n",
        "sulphates = st.number_input(\"Sulphates\", value=0.6)\n",
        "alcohol = st.number_input(\"Alcohol\", value=10.0)\n",
        "\n",
        "# Create a feature vector from user input\n",
        "input_features = np.array([fixed_acidity, volatile_acidity, citric_acid,\n",
        "                           residual_sugar, chlorides, free_sulfur_dioxide,\n",
        "                           total_sulfur_dioxide, density, pH, sulphates,\n",
        "                           alcohol]).reshape(1, -1)\n",
        "\n",
        "# --- Prediction Logic ---\n",
        "feature_cols = [\"fixed_acidity\", \"volatile_acidity\", \"citric_acid\", \"residual_sugar\",\n",
        "                \"chlorides\", \"free_sulfur_dioxide\", \"total_sulfur_dioxide\",\n",
        "                \"density\", \"pH\", \"sulphates\", \"alcohol\"]\n",
        "input_list = input_features.tolist()\n",
        "input_df = spark.createDataFrame(input_list, schema=feature_cols)\n",
        "\n",
        "assembler = VectorAssembler(inputCols=feature_cols, outputCol=\"features\")\n",
        "input_df = assembler.transform(input_df)\n",
        "\n",
        "input_df = scaler_model.transform(input_df)\n",
        "input_df = pca_model.transform(input_df)\n",
        "\n",
        "prediction = model.transform(input_df).select(\"prediction\").collect()[0][0]\n",
        "\n",
        "# --- Display Prediction ---\n",
        "st.subheader(\"Predicted Wine Quality:\")\n",
        "st.write(prediction)"
      ],
      "cell_type": "code",
      "metadata": {
        "id": "to6npEKXguEo"
      },
      "execution_count": 12,
      "outputs": []
    },
    {
      "source": [
        "# --- Install Libraries (if needed) ---\n",
        "#!pip install streamlit\n",
        "#!pip install pyngrok\n",
        "\n",
        "# --- Expose with ngrok ---\n",
        "from pyngrok import ngrok\n",
        "ngrok.set_auth_token(\"2iCIKFvA7hgtA1IisN3rDkuRYPU_4PnB3jiNWhKAK7UFZRRaB\")  # Replace with your actual authtoken\n",
        "public_url = ngrok.connect(8056)\n",
        "st.markdown(f\"**Public URL: {public_url}**\")\n",
        "\n"
      ],
      "cell_type": "code",
      "metadata": {
        "colab": {
          "base_uri": "https://localhost:8080/"
        },
        "id": "IOBM9O-ThJm9",
        "outputId": "7a655e6d-b542-410e-d63c-cf0cf8719414"
      },
      "execution_count": 21,
      "outputs": [
        {
          "output_type": "execute_result",
          "data": {
            "text/plain": [
              "DeltaGenerator()"
            ]
          },
          "metadata": {},
          "execution_count": 21
        }
      ]
    },
    {
      "cell_type": "code",
      "source": [
        "# --- Run Streamlit ---\n",
        "!streamlit run /content/wineapp.py"
      ],
      "metadata": {
        "colab": {
          "base_uri": "https://localhost:8080/"
        },
        "id": "hpQG5kOjv1EZ",
        "outputId": "254005a1-d2e4-429f-8cae-5c65a3ce144a"
      },
      "execution_count": 17,
      "outputs": [
        {
          "output_type": "stream",
          "name": "stdout",
          "text": [
            "\n",
            "Collecting usage statistics. To deactivate, set browser.gatherUsageStats to false.\n",
            "\u001b[0m\n",
            "\u001b[0m\n",
            "\u001b[34m\u001b[1m  You can now view your Streamlit app in your browser.\u001b[0m\n",
            "\u001b[0m\n",
            "\u001b[34m  Local URL: \u001b[0m\u001b[1mhttp://localhost:8501\u001b[0m\n",
            "\u001b[34m  Network URL: \u001b[0m\u001b[1mhttp://172.28.0.12:8501\u001b[0m\n",
            "\u001b[34m  External URL: \u001b[0m\u001b[1mhttp://34.80.211.114:8501\u001b[0m\n",
            "\u001b[0m\n",
            "\u001b[34m  Stopping...\u001b[0m\n",
            "Traceback (most recent call last):\n",
            "  File \"/usr/local/bin/streamlit\", line 8, in <module>\n",
            "    sys.exit(main())\n",
            "  File \"/usr/local/lib/python3.10/dist-packages/click/core.py\", line 1157, in __call__\n",
            "    return self.main(*args, **kwargs)\n",
            "  File \"/usr/local/lib/python3.10/dist-packages/click/core.py\", line 1078, in main\n",
            "    rv = self.invoke(ctx)\n",
            "  File \"/usr/local/lib/python3.10/dist-packages/click/core.py\", line 1688, in invoke\n",
            "    return _process_result(sub_ctx.command.invoke(sub_ctx))\n",
            "  File \"/usr/local/lib/python3.10/dist-packages/click/core.py\", line 1434, in invoke\n",
            "    return ctx.invoke(self.callback, **ctx.params)\n",
            "  File \"/usr/local/lib/python3.10/dist-packages/click/core.py\", line 783, in invoke\n",
            "    return __callback(*args, **kwargs)\n",
            "  File \"/usr/local/lib/python3.10/dist-packages/streamlit/web/cli.py\", line 238, in main_run\n",
            "    _main_run(target, args, flag_options=kwargs)\n",
            "  File \"/usr/local/lib/python3.10/dist-packages/streamlit/web/cli.py\", line 274, in _main_run\n",
            "    bootstrap.run(file, is_hello, args, flag_options)\n",
            "  File \"/usr/local/lib/python3.10/dist-packages/streamlit/web/bootstrap.py\", line 352, in run\n",
            "    asyncio.run(run_server())\n",
            "  File \"/usr/lib/python3.10/asyncio/runners.py\", line 44, in run\n",
            "    return loop.run_until_complete(main)\n",
            "  File \"/usr/lib/python3.10/asyncio/base_events.py\", line 636, in run_until_complete\n",
            "    self.run_forever()\n",
            "  File \"/usr/lib/python3.10/asyncio/base_events.py\", line 603, in run_forever\n",
            "    self._run_once()\n",
            "  File \"/usr/lib/python3.10/asyncio/base_events.py\", line 1871, in _run_once\n",
            "    event_list = self._selector.select(timeout)\n",
            "  File \"/usr/lib/python3.10/selectors.py\", line 469, in select\n",
            "    fd_event_list = self._selector.poll(timeout, max_ev)\n",
            "  File \"/usr/local/lib/python3.10/dist-packages/streamlit/web/bootstrap.py\", line 44, in signal_handler\n",
            "    server.stop()\n",
            "  File \"/usr/local/lib/python3.10/dist-packages/streamlit/web/server/server.py\", line 404, in stop\n",
            "    cli_util.print_to_cli(\"  Stopping...\", fg=\"blue\")\n",
            "  File \"/usr/local/lib/python3.10/dist-packages/streamlit/cli_util.py\", line 29, in print_to_cli\n",
            "    click.secho(message, **kwargs)\n",
            "  File \"/usr/local/lib/python3.10/dist-packages/click/termui.py\", line 634, in secho\n",
            "    return echo(message, file=file, nl=nl, err=err, color=color)\n",
            "  File \"/usr/local/lib/python3.10/dist-packages/click/utils.py\", line 318, in echo\n",
            "    file.write(out)  # type: ignore\n",
            "  File \"/usr/local/lib/python3.10/dist-packages/streamlit/web/bootstrap.py\", line 44, in signal_handler\n",
            "    server.stop()\n",
            "  File \"/usr/local/lib/python3.10/dist-packages/streamlit/web/server/server.py\", line 404, in stop\n",
            "    cli_util.print_to_cli(\"  Stopping...\", fg=\"blue\")\n",
            "  File \"/usr/local/lib/python3.10/dist-packages/streamlit/cli_util.py\", line 29, in print_to_cli\n",
            "    click.secho(message, **kwargs)\n",
            "  File \"/usr/local/lib/python3.10/dist-packages/click/termui.py\", line 634, in secho\n",
            "    return echo(message, file=file, nl=nl, err=err, color=color)\n",
            "  File \"/usr/local/lib/python3.10/dist-packages/click/utils.py\", line 318, in echo\n",
            "    file.write(out)  # type: ignore\n",
            "RuntimeError: reentrant call inside <_io.BufferedWriter name='<stdout>'>\n"
          ]
        }
      ]
    }
  ]
}
